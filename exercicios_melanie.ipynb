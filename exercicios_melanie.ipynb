{
 "cells": [
  {
   "cell_type": "markdown",
   "metadata": {},
   "source": [
    "# Crie um array com 10 elementos usando a função arange"
   ]
  },
  {
   "cell_type": "code",
   "execution_count": 2,
   "metadata": {},
   "outputs": [],
   "source": [
    "import numpy as np"
   ]
  },
  {
   "cell_type": "code",
   "execution_count": 3,
   "metadata": {
    "scrolled": true
   },
   "outputs": [
    {
     "name": "stdout",
     "output_type": "stream",
     "text": [
      "[ 1  2  3  4  5  6  7  8  9 10]\n"
     ]
    }
   ],
   "source": [
    "\n",
    "arr = np.arange(1,11,1)\n",
    "print(arr)"
   ]
  },
  {
   "cell_type": "markdown",
   "metadata": {},
   "source": [
    "# Transforme esse array de 1D (1x10) para 2D (2x5) usando a função reshape"
   ]
  },
  {
   "cell_type": "code",
   "execution_count": 4,
   "metadata": {},
   "outputs": [
    {
     "name": "stdout",
     "output_type": "stream",
     "text": [
      "[[ 1  2  3  4  5]\n",
      " [ 6  7  8  9 10]]\n"
     ]
    }
   ],
   "source": [
    "arr_re = arr.reshape((2,5))\n",
    "print(arr_re)"
   ]
  },
  {
   "cell_type": "markdown",
   "metadata": {},
   "source": [
    "# Crie duas matrizes bidimensionais com valores aleatórios"
   ]
  },
  {
   "cell_type": "code",
   "execution_count": 5,
   "metadata": {},
   "outputs": [
    {
     "data": {
      "text/plain": [
       "array([[0.28662073, 0.82897333, 0.07668621, 0.17198998],\n",
       "       [0.76397917, 0.15263452, 0.72176122, 0.05733409],\n",
       "       [0.52106485, 0.01593686, 0.105784  , 0.18087894],\n",
       "       [0.74684707, 0.20044311, 0.1996304 , 0.93633651],\n",
       "       [0.31465193, 0.061681  , 0.19549705, 0.56662765]])"
      ]
     },
     "execution_count": 5,
     "metadata": {},
     "output_type": "execute_result"
    }
   ],
   "source": [
    "matriz_1 = np.random.rand(5,4)\n",
    "matriz_1"
   ]
  },
  {
   "cell_type": "code",
   "execution_count": 6,
   "metadata": {},
   "outputs": [
    {
     "data": {
      "text/plain": [
       "array([[40, 40, 26, 90],\n",
       "       [15, 98, 30, 14],\n",
       "       [19, 98, 64, 34],\n",
       "       [30, 88, 69, 26],\n",
       "       [61, 82, 64, 34]])"
      ]
     },
     "execution_count": 6,
     "metadata": {},
     "output_type": "execute_result"
    }
   ],
   "source": [
    "matriz_2 = np.random.randint(0, 100, (5,4))\n",
    "matriz_2"
   ]
  },
  {
   "cell_type": "markdown",
   "metadata": {},
   "source": [
    "# Calcule a transposta de cada matriz"
   ]
  },
  {
   "cell_type": "code",
   "execution_count": 7,
   "metadata": {},
   "outputs": [
    {
     "data": {
      "text/plain": [
       "array([[0.28662073, 0.76397917, 0.52106485, 0.74684707, 0.31465193],\n",
       "       [0.82897333, 0.15263452, 0.01593686, 0.20044311, 0.061681  ],\n",
       "       [0.07668621, 0.72176122, 0.105784  , 0.1996304 , 0.19549705],\n",
       "       [0.17198998, 0.05733409, 0.18087894, 0.93633651, 0.56662765]])"
      ]
     },
     "execution_count": 7,
     "metadata": {},
     "output_type": "execute_result"
    }
   ],
   "source": [
    "tmatriz_1 = matriz_1.T\n",
    "tmatriz_1"
   ]
  },
  {
   "cell_type": "code",
   "execution_count": 8,
   "metadata": {},
   "outputs": [
    {
     "data": {
      "text/plain": [
       "array([[40, 15, 19, 30, 61],\n",
       "       [40, 98, 98, 88, 82],\n",
       "       [26, 30, 64, 69, 64],\n",
       "       [90, 14, 34, 26, 34]])"
      ]
     },
     "execution_count": 8,
     "metadata": {},
     "output_type": "execute_result"
    }
   ],
   "source": [
    "tmatriz_2 = matriz_2.T\n",
    "tmatriz_2"
   ]
  },
  {
   "cell_type": "markdown",
   "metadata": {},
   "source": [
    "# multiplique as duas matrizes"
   ]
  },
  {
   "cell_type": "code",
   "execution_count": 9,
   "metadata": {},
   "outputs": [
    {
     "data": {
      "text/plain": [
       "array([[11.46482901, 33.15893313,  1.99384144, 15.4790986 ],\n",
       "       [11.45968754, 14.95818301, 21.65283665,  0.80267721],\n",
       "       [ 9.90023211,  1.56181237,  6.77017573,  6.14988396],\n",
       "       [22.40541197, 17.63899348, 13.77449738, 24.34474916],\n",
       "       [19.19376789,  5.05784169, 12.51181097, 19.26534007]])"
      ]
     },
     "execution_count": 9,
     "metadata": {},
     "output_type": "execute_result"
    }
   ],
   "source": [
    "multiplica = matriz_1 * matriz_2\n",
    "multiplica"
   ]
  },
  {
   "cell_type": "markdown",
   "metadata": {},
   "source": [
    "# Salve as matrizes de entrada e a de saída em arquivos. Qual o tamanho dos arquivos gerados?\n",
    "\n",
    "matriz de entrada 1 = matriz_1    \n",
    "matriz de entrada 2 = matriz_2    \n",
    "matriz de saída = multiplica\n",
    "  \n",
    "path = \"/home/melaniegisselurdangaringamarra/Documentos/git_workspace/09-curso-numpy-master/melanie_exercicios\"    "
   ]
  },
  {
   "cell_type": "code",
   "execution_count": 15,
   "metadata": {
    "scrolled": true
   },
   "outputs": [],
   "source": [
    "!touch salva_matent1.txt\n",
    "np.savetxt('salva_matent1.txt',matriz_1) "
   ]
  },
  {
   "cell_type": "code",
   "execution_count": 29,
   "metadata": {},
   "outputs": [
    {
     "name": "stdout",
     "output_type": "stream",
     "text": [
      "matriz1:  [[0.28662073 0.82897333 0.07668621 0.17198998]\n",
      " [0.76397917 0.15263452 0.72176122 0.05733409]\n",
      " [0.52106485 0.01593686 0.105784   0.18087894]\n",
      " [0.74684707 0.20044311 0.1996304  0.93633651]\n",
      " [0.31465193 0.061681   0.19549705 0.56662765]]\n"
     ]
    }
   ],
   "source": [
    "m1 = np.loadtxt('salva_matent1.txt') \n",
    "print(\"matriz1: \",m1)"
   ]
  },
  {
   "cell_type": "code",
   "execution_count": 16,
   "metadata": {},
   "outputs": [],
   "source": [
    "!touch salva_matent2.txt\n",
    "np.savetxt('salva_matent2.txt',matriz_2) "
   ]
  },
  {
   "cell_type": "code",
   "execution_count": 30,
   "metadata": {},
   "outputs": [
    {
     "name": "stdout",
     "output_type": "stream",
     "text": [
      "matriz2:  [[40. 40. 26. 90.]\n",
      " [15. 98. 30. 14.]\n",
      " [19. 98. 64. 34.]\n",
      " [30. 88. 69. 26.]\n",
      " [61. 82. 64. 34.]]\n"
     ]
    }
   ],
   "source": [
    "m2 = np.loadtxt('salva_matent2.txt') \n",
    "print(\"matriz2: \",m2)"
   ]
  },
  {
   "cell_type": "code",
   "execution_count": 17,
   "metadata": {},
   "outputs": [],
   "source": [
    "!touch salva_saida.txt\n",
    "np.savetxt('salva_saida.txt',multiplica) "
   ]
  },
  {
   "cell_type": "code",
   "execution_count": 31,
   "metadata": {},
   "outputs": [
    {
     "name": "stdout",
     "output_type": "stream",
     "text": [
      "matriz3:  [[11.46482901 33.15893313  1.99384144 15.4790986 ]\n",
      " [11.45968754 14.95818301 21.65283665  0.80267721]\n",
      " [ 9.90023211  1.56181237  6.77017573  6.14988396]\n",
      " [22.40541197 17.63899348 13.77449738 24.34474916]\n",
      " [19.19376789  5.05784169 12.51181097 19.26534007]]\n"
     ]
    }
   ],
   "source": [
    "m3 = np.loadtxt('salva_saida.txt') \n",
    "print(\"matriz3: \",m3)"
   ]
  },
  {
   "cell_type": "code",
   "execution_count": 34,
   "metadata": {},
   "outputs": [
    {
     "name": "stdout",
     "output_type": "stream",
     "text": [
      "Tamanho em bytes das matrizes:\n",
      "matriz_1 = 160\n",
      "matriz_2 = 160\n",
      "matriz_saida = 160\n"
     ]
    }
   ],
   "source": [
    "#print(my_array)\n",
    "#print(matriz_1.ndim) -> dimensiones = 2\n",
    "#print(matriz_1.shape) -> (5,4)\n",
    "#print(matriz_1.size) -> 5x4 = 20\n",
    "#print(matriz_1.flags)\n",
    "#print(matriz_1.itemsize) -> 8\n",
    "print('Tamanho em bytes das matrizes:')\n",
    "print(f'matriz_1 = {m1.nbytes}') \n",
    "print(f'matriz_2 = {m2.nbytes}') \n",
    "print(f'matriz_saida = {m3.nbytes}') "
   ]
  },
  {
   "cell_type": "markdown",
   "metadata": {},
   "source": [
    "# Crie duas bidimensionais matrizes com valores aleatórios e gere uma única matriz combinando linha a linha"
   ]
  },
  {
   "cell_type": "code",
   "execution_count": 35,
   "metadata": {},
   "outputs": [
    {
     "data": {
      "text/plain": [
       "array([[16,  0],\n",
       "       [ 0, 14],\n",
       "       [18, 16]])"
      ]
     },
     "execution_count": 35,
     "metadata": {},
     "output_type": "execute_result"
    }
   ],
   "source": [
    "mat1 = np.random.randint(0, 20, (3,2))\n",
    "mat1"
   ]
  },
  {
   "cell_type": "code",
   "execution_count": 36,
   "metadata": {},
   "outputs": [
    {
     "data": {
      "text/plain": [
       "array([[37, 33],\n",
       "       [34, 35]])"
      ]
     },
     "execution_count": 36,
     "metadata": {},
     "output_type": "execute_result"
    }
   ],
   "source": [
    "mat2 = np.random.randint(30, 40, (2,2))\n",
    "mat2"
   ]
  },
  {
   "cell_type": "code",
   "execution_count": 37,
   "metadata": {},
   "outputs": [
    {
     "data": {
      "text/plain": [
       "array([[16,  0],\n",
       "       [ 0, 14],\n",
       "       [18, 16],\n",
       "       [37, 33],\n",
       "       [34, 35]])"
      ]
     },
     "execution_count": 37,
     "metadata": {},
     "output_type": "execute_result"
    }
   ],
   "source": [
    "np.vstack([mat1, mat2])"
   ]
  },
  {
   "cell_type": "markdown",
   "metadata": {},
   "source": [
    "# Crie um vetor nulo de tamanho 10"
   ]
  },
  {
   "cell_type": "code",
   "execution_count": 41,
   "metadata": {},
   "outputs": [
    {
     "name": "stdout",
     "output_type": "stream",
     "text": [
      "np.zeros:  [0 0 0 0 0 0 0 0 0 0]\n"
     ]
    }
   ],
   "source": [
    "zeros = np.zeros(10,dtype=np.int64) \n",
    "\n",
    "print(\"np.zeros: \",zeros)"
   ]
  },
  {
   "cell_type": "markdown",
   "metadata": {},
   "source": [
    "# Como encontrar o tamanho da memória de qualquer matriz"
   ]
  },
  {
   "cell_type": "code",
   "execution_count": 43,
   "metadata": {},
   "outputs": [
    {
     "name": "stdout",
     "output_type": "stream",
     "text": [
      "80 bytes\n"
     ]
    }
   ],
   "source": [
    "print(\"%d bytes\" % (zeros.size * zeros.itemsize))"
   ]
  },
  {
   "cell_type": "code",
   "execution_count": 44,
   "metadata": {},
   "outputs": [
    {
     "data": {
      "text/plain": [
       "80"
      ]
     },
     "execution_count": 44,
     "metadata": {},
     "output_type": "execute_result"
    }
   ],
   "source": [
    "zeros.nbytes"
   ]
  },
  {
   "cell_type": "markdown",
   "metadata": {},
   "source": [
    "# Crie um vetor nulo de tamanho 10, mas o quinto valor, que é 1"
   ]
  },
  {
   "cell_type": "code",
   "execution_count": 47,
   "metadata": {},
   "outputs": [
    {
     "data": {
      "text/plain": [
       "array([0, 0, 0, 0, 0, 0, 0, 0, 0, 0])"
      ]
     },
     "execution_count": 47,
     "metadata": {},
     "output_type": "execute_result"
    }
   ],
   "source": [
    "nulo = np.zeros(10, dtype=np.int64)\n",
    "nulo"
   ]
  },
  {
   "cell_type": "code",
   "execution_count": 48,
   "metadata": {},
   "outputs": [],
   "source": [
    "nulo[4] = 5"
   ]
  },
  {
   "cell_type": "code",
   "execution_count": 49,
   "metadata": {},
   "outputs": [
    {
     "data": {
      "text/plain": [
       "array([0, 0, 0, 0, 5, 0, 0, 0, 0, 0])"
      ]
     },
     "execution_count": 49,
     "metadata": {},
     "output_type": "execute_result"
    }
   ],
   "source": [
    "nulo"
   ]
  },
  {
   "cell_type": "markdown",
   "metadata": {},
   "source": [
    "# Crie um vetor com valores que variam de 10 a 49"
   ]
  },
  {
   "cell_type": "code",
   "execution_count": 58,
   "metadata": {
    "scrolled": true
   },
   "outputs": [
    {
     "data": {
      "text/plain": [
       "array([10, 11, 12, 13, 14, 15, 16, 17, 18, 19, 20, 21, 22, 23, 24, 25, 26,\n",
       "       27, 28, 29, 30, 31, 32, 33, 34, 35, 36, 37, 38, 39, 40, 41, 42, 43,\n",
       "       44, 45, 46, 47, 48, 49])"
      ]
     },
     "execution_count": 58,
     "metadata": {},
     "output_type": "execute_result"
    }
   ],
   "source": [
    "vet = np.arange(10,50,1)\n",
    "vet\n",
    "#print(type(vet))"
   ]
  },
  {
   "cell_type": "markdown",
   "metadata": {},
   "source": [
    "# Inverter um vetor (o primeiro elemento se torna o último)"
   ]
  },
  {
   "cell_type": "code",
   "execution_count": 61,
   "metadata": {
    "scrolled": true
   },
   "outputs": [
    {
     "data": {
      "text/plain": [
       "array([49, 48, 47, 46, 45, 44, 43, 42, 41, 40, 39, 38, 37, 36, 35, 34, 33,\n",
       "       32, 31, 30, 29, 28, 27, 26, 25, 24, 23, 22, 21, 20, 19, 18, 17, 16,\n",
       "       15, 14, 13, 12, 11, 10])"
      ]
     },
     "execution_count": 61,
     "metadata": {},
     "output_type": "execute_result"
    }
   ],
   "source": [
    "vet_rev = np.flip(vet, axis=None)"
   ]
  },
  {
   "cell_type": "code",
   "execution_count": 55,
   "metadata": {},
   "outputs": [
    {
     "name": "stdout",
     "output_type": "stream",
     "text": [
      "[49, 48, 47, 46, 45, 44, 43, 42, 41, 40, 39, 38, 37, 36, 35, 34, 33, 32, 31, 30, 29, 28, 27, 26, 25, 24, 23, 22, 21, 20, 19, 18, 17, 16, 15, 14, 13, 12, 11, 10]\n"
     ]
    }
   ],
   "source": [
    "vet_rev = list(reversed(vet))\n",
    "print(vet_rev)\n"
   ]
  },
  {
   "cell_type": "markdown",
   "metadata": {},
   "source": [
    "# Crie uma matriz 3x3 com valores que variam de 0 a 8"
   ]
  },
  {
   "cell_type": "code",
   "execution_count": 65,
   "metadata": {},
   "outputs": [
    {
     "data": {
      "text/plain": [
       "array([[0, 1, 2],\n",
       "       [3, 4, 5],\n",
       "       [6, 7, 8]])"
      ]
     },
     "execution_count": 65,
     "metadata": {},
     "output_type": "execute_result"
    }
   ],
   "source": [
    "mat = np.arange(0,9,1)\n",
    "mat33 = mat33.reshape((3,3))\n",
    "mat33"
   ]
  },
  {
   "cell_type": "markdown",
   "metadata": {},
   "source": [
    "# Crie uma matriz de identidade 3x3"
   ]
  },
  {
   "cell_type": "code",
   "execution_count": 67,
   "metadata": {},
   "outputs": [
    {
     "name": "stdout",
     "output_type": "stream",
     "text": [
      "identidade:  [[1. 0. 0. 0. 0.]\n",
      " [0. 1. 0. 0. 0.]\n",
      " [0. 0. 1. 0. 0.]\n",
      " [0. 0. 0. 1. 0.]\n",
      " [0. 0. 0. 0. 1.]]\n"
     ]
    }
   ],
   "source": [
    "n=np.identity(5) \n",
    "print(\"identidade: \",n)"
   ]
  },
  {
   "cell_type": "markdown",
   "metadata": {},
   "source": [
    "# Crie uma matriz 3x3x3 com valores aleatórios"
   ]
  },
  {
   "cell_type": "code",
   "execution_count": 76,
   "metadata": {},
   "outputs": [
    {
     "data": {
      "text/plain": [
       "array([[[ 1.,  2.,  3.],\n",
       "        [ 4.,  5.,  6.],\n",
       "        [ 7.,  8.,  9.]],\n",
       "\n",
       "       [[10., 11., 12.],\n",
       "        [13., 14., 15.],\n",
       "        [16., 17., 18.]],\n",
       "\n",
       "       [[19., 20., 21.],\n",
       "        [22., 23., 24.],\n",
       "        [25., 26., 27.]]])"
      ]
     },
     "execution_count": 76,
     "metadata": {},
     "output_type": "execute_result"
    }
   ],
   "source": [
    "n=np.linspace(1,27,27) \n",
    "mat333 = n.reshape((3,3,3))\n",
    "mat333"
   ]
  },
  {
   "cell_type": "markdown",
   "metadata": {},
   "source": [
    "# Crie uma matriz 10x10 com valores aleatórios e encontre os valores mínimo e máximo"
   ]
  },
  {
   "cell_type": "code",
   "execution_count": 83,
   "metadata": {},
   "outputs": [
    {
     "data": {
      "text/plain": [
       "array([[40,  0, 31, 85,  6, 61, 38, 71, 45, 27],\n",
       "       [67, 99, 48, 52, 24, 22, 79, 58, 96, 63],\n",
       "       [22, 39, 89, 68, 34, 53, 78, 56, 96, 94],\n",
       "       [32, 40, 58, 38, 23, 50, 95, 58, 32, 54],\n",
       "       [17, 68, 31, 94, 88,  8,  3, 88,  8, 16],\n",
       "       [85, 66, 59,  1, 99, 36, 67, 76, 31,  6],\n",
       "       [23, 30, 46, 75,  7, 81, 68, 81, 80, 11],\n",
       "       [93, 80, 64, 80, 31,  7,  6, 56, 57, 54],\n",
       "       [35, 31, 62, 73, 36, 57, 54,  1, 92, 54],\n",
       "       [37, 11, 36, 51, 18, 55, 79, 80, 16, 32]])"
      ]
     },
     "execution_count": 83,
     "metadata": {},
     "output_type": "execute_result"
    }
   ],
   "source": [
    "aleat = np.random.randint(0, 100, (10,10))\n",
    "aleat"
   ]
  },
  {
   "cell_type": "code",
   "execution_count": 85,
   "metadata": {
    "scrolled": true
   },
   "outputs": [
    {
     "data": {
      "text/plain": [
       "0"
      ]
     },
     "execution_count": 85,
     "metadata": {},
     "output_type": "execute_result"
    }
   ],
   "source": [
    "minimo = aleat.min()\n",
    "minimo"
   ]
  },
  {
   "cell_type": "code",
   "execution_count": 86,
   "metadata": {},
   "outputs": [
    {
     "data": {
      "text/plain": [
       "99"
      ]
     },
     "execution_count": 86,
     "metadata": {},
     "output_type": "execute_result"
    }
   ],
   "source": [
    "maximo = aleat.max()\n",
    "maximo"
   ]
  },
  {
   "cell_type": "markdown",
   "metadata": {},
   "source": [
    "# Crie um vetor aleatório de tamanho 30 e encontre o valor médio"
   ]
  },
  {
   "cell_type": "code",
   "execution_count": 89,
   "metadata": {},
   "outputs": [
    {
     "data": {
      "text/plain": [
       "array([22, 24, 40, 45, 37, 32, 24, 41, 32, 43, 47, 39, 30, 42, 23, 41, 28,\n",
       "       38, 48, 45, 42, 24, 31, 33, 41, 23, 34, 27, 32, 34])"
      ]
     },
     "execution_count": 89,
     "metadata": {},
     "output_type": "execute_result"
    }
   ],
   "source": [
    "vetor = np.random.randint(20,50,30)\n",
    "vetor"
   ]
  },
  {
   "cell_type": "code",
   "execution_count": 90,
   "metadata": {},
   "outputs": [
    {
     "data": {
      "text/plain": [
       "34.733333333333334"
      ]
     },
     "execution_count": 90,
     "metadata": {},
     "output_type": "execute_result"
    }
   ],
   "source": [
    "media = vetor.mean()\n",
    "media"
   ]
  },
  {
   "cell_type": "markdown",
   "metadata": {},
   "source": [
    "# Crie uma matriz 2D com 1 na borda e 0 dentro"
   ]
  },
  {
   "cell_type": "code",
   "execution_count": 113,
   "metadata": {},
   "outputs": [
    {
     "name": "stdout",
     "output_type": "stream",
     "text": [
      "Matriz original:\n",
      "[[1. 1. 1. 1. 1.]\n",
      " [1. 1. 1. 1. 1.]\n",
      " [1. 1. 1. 1. 1.]\n",
      " [1. 1. 1. 1. 1.]\n",
      " [1. 1. 1. 1. 1.]]\n",
      "1 na borda e 0 dentro\n",
      "[[1. 1. 1. 1. 1.]\n",
      " [1. 0. 0. 0. 1.]\n",
      " [1. 0. 0. 0. 1.]\n",
      " [1. 0. 0. 0. 1.]\n",
      " [1. 1. 1. 1. 1.]]\n"
     ]
    }
   ],
   "source": [
    "x = np.ones((5,5))\n",
    "print(\"Matriz original:\")\n",
    "print(x)\n",
    "print(\"1 na borda e 0 dentro\")\n",
    "x[1:-1,1:-1] = 0\n",
    "print(x)"
   ]
  },
  {
   "cell_type": "code",
   "execution_count": 104,
   "metadata": {
    "scrolled": true
   },
   "outputs": [
    {
     "data": {
      "text/plain": [
       "array([[0., 0., 0., 0., 0.],\n",
       "       [0., 0., 0., 0., 0.],\n",
       "       [0., 0., 0., 0., 0.],\n",
       "       [0., 0., 0., 0., 0.],\n",
       "       [0., 0., 0., 0., 0.]])"
      ]
     },
     "execution_count": 104,
     "metadata": {},
     "output_type": "execute_result"
    }
   ],
   "source": [
    "mat = np.zeros((5,5))\n",
    "mat"
   ]
  },
  {
   "cell_type": "code",
   "execution_count": 105,
   "metadata": {},
   "outputs": [
    {
     "data": {
      "text/plain": [
       "array([[0., 0., 0., 0., 0.],\n",
       "       [0., 0., 0., 0., 0.],\n",
       "       [0., 0., 0., 0., 0.],\n",
       "       [0., 0., 0., 0., 0.],\n",
       "       [0., 0., 0., 0., 0.]])"
      ]
     },
     "execution_count": 105,
     "metadata": {},
     "output_type": "execute_result"
    }
   ],
   "source": [
    "mat"
   ]
  },
  {
   "cell_type": "code",
   "execution_count": 106,
   "metadata": {},
   "outputs": [
    {
     "data": {
      "text/plain": [
       "array([[1., 1., 1., 1., 1.],\n",
       "       [0., 0., 0., 0., 0.],\n",
       "       [0., 0., 0., 0., 0.],\n",
       "       [0., 0., 0., 0., 0.],\n",
       "       [0., 0., 0., 0., 0.]])"
      ]
     },
     "execution_count": 106,
     "metadata": {},
     "output_type": "execute_result"
    }
   ],
   "source": [
    "mat[0][:]=1\n",
    "mat"
   ]
  },
  {
   "cell_type": "code",
   "execution_count": 109,
   "metadata": {
    "scrolled": true
   },
   "outputs": [
    {
     "data": {
      "text/plain": [
       "array([[1., 1., 1., 1., 1.],\n",
       "       [0., 0., 0., 0., 0.],\n",
       "       [0., 0., 0., 0., 0.],\n",
       "       [0., 0., 0., 0., 0.],\n",
       "       [1., 1., 1., 1., 1.]])"
      ]
     },
     "execution_count": 109,
     "metadata": {},
     "output_type": "execute_result"
    }
   ],
   "source": [
    "mat[:][len(mat)-1:len(mat)]=1\n",
    "mat"
   ]
  },
  {
   "cell_type": "code",
   "execution_count": 112,
   "metadata": {},
   "outputs": [
    {
     "data": {
      "text/plain": [
       "array([[1., 1., 1., 1., 1.],\n",
       "       [0., 0., 0., 0., 0.],\n",
       "       [0., 0., 0., 0., 0.],\n",
       "       [0., 0., 0., 0., 0.],\n",
       "       [1., 1., 1., 1., 1.]])"
      ]
     },
     "execution_count": 112,
     "metadata": {},
     "output_type": "execute_result"
    }
   ],
   "source": [
    "mat[0:len(mat)][len(mat)-1:len(mat)]=1\n",
    "mat"
   ]
  },
  {
   "cell_type": "markdown",
   "metadata": {},
   "source": [
    "..."
   ]
  },
  {
   "cell_type": "markdown",
   "metadata": {},
   "source": [
    "# Crie uma matriz 5x5 com valores 1,2,3,4 logo abaixo da diagonal"
   ]
  },
  {
   "cell_type": "code",
   "execution_count": 115,
   "metadata": {
    "scrolled": true
   },
   "outputs": [
    {
     "data": {
      "text/plain": [
       "array([[0., 0., 0., 0., 0.],\n",
       "       [0., 0., 0., 0., 0.],\n",
       "       [0., 0., 0., 0., 0.],\n",
       "       [0., 0., 0., 0., 0.],\n",
       "       [0., 0., 0., 0., 0.]])"
      ]
     },
     "execution_count": 115,
     "metadata": {},
     "output_type": "execute_result"
    }
   ],
   "source": [
    "arr1 = np.zeros(25).reshape((5,5))\n",
    "arr1"
   ]
  },
  {
   "cell_type": "code",
   "execution_count": 118,
   "metadata": {
    "scrolled": true
   },
   "outputs": [
    {
     "name": "stdout",
     "output_type": "stream",
     "text": [
      "5\n"
     ]
    }
   ],
   "source": [
    "print(len(arr1))"
   ]
  },
  {
   "cell_type": "code",
   "execution_count": 120,
   "metadata": {},
   "outputs": [
    {
     "data": {
      "text/plain": [
       "array([[0., 0., 0., 0., 0.],\n",
       "       [1., 0., 0., 0., 0.],\n",
       "       [0., 2., 0., 0., 0.],\n",
       "       [0., 0., 3., 0., 0.],\n",
       "       [0., 0., 0., 4., 0.]])"
      ]
     },
     "execution_count": 120,
     "metadata": {},
     "output_type": "execute_result"
    }
   ],
   "source": [
    "cont = 0\n",
    "for i in range(0,len(arr1)-1):\n",
    "    cont += 1\n",
    "    arr1[i+1][i] = cont\n",
    "\n",
    "arr1"
   ]
  },
  {
   "cell_type": "markdown",
   "metadata": {},
   "source": [
    "# Crie uma matriz estruturada representando uma posição (x, y) e uma cor (r, g, b)"
   ]
  },
  {
   "cell_type": "code",
   "execution_count": 123,
   "metadata": {},
   "outputs": [
    {
     "data": {
      "text/plain": [
       "[[(0, 0, 255), (0, 255, 0)], [(255, 0, 0), (0, 0, 0)]]"
      ]
     },
     "execution_count": 123,
     "metadata": {},
     "output_type": "execute_result"
    }
   ],
   "source": [
    "M = [\n",
    "  [(0, 0, 255), (0, 255, 0)],\n",
    "  [(255, 0, 0), (0, 0, 0)]\n",
    "]\n",
    "\"\"\"\n",
    "formato (B, G, R)\n",
    "1er pixel es rojo\n",
    "2do pixel es verde\n",
    "3er pixel es azul\n",
    "4to pixel es negro\n",
    "\"\"\"\n",
    "M"
   ]
  },
  {
   "cell_type": "markdown",
   "metadata": {},
   "source": [
    "# Subtrair a média de cada linha de uma matriz"
   ]
  },
  {
   "cell_type": "code",
   "execution_count": 124,
   "metadata": {},
   "outputs": [
    {
     "data": {
      "text/plain": [
       "array([[ 4, 40, 58, 28, 19, 36, 85, 43, 22, 22],\n",
       "       [37, 74, 36, 89, 19, 21, 99,  6, 70, 13],\n",
       "       [26, 87, 78, 76, 61, 42, 89, 77, 52, 50],\n",
       "       [85, 49, 39, 19, 70, 51, 18, 71, 76, 38],\n",
       "       [23, 33, 13,  2, 74, 93, 55, 57, 82, 72],\n",
       "       [86, 74, 89, 41, 16,  0, 69, 43, 32, 94],\n",
       "       [74, 35, 90, 55, 56,  8, 70, 85, 89,  6],\n",
       "       [28, 15, 97, 69, 81, 80, 19,  4,  2, 30],\n",
       "       [14, 49, 90, 73, 91, 65,  7, 75, 58, 35],\n",
       "       [ 1, 58, 21,  0, 33, 22, 24, 91, 47, 36]])"
      ]
     },
     "execution_count": 124,
     "metadata": {},
     "output_type": "execute_result"
    }
   ],
   "source": [
    "m = np.random.randint(0, 100, (10,10))\n",
    "m"
   ]
  },
  {
   "cell_type": "code",
   "execution_count": 131,
   "metadata": {},
   "outputs": [
    {
     "data": {
      "text/plain": [
       "[35.7, 46.4, 63.8, 51.6, 50.4, 54.4, 56.8, 42.5, 55.7]"
      ]
     },
     "execution_count": 131,
     "metadata": {},
     "output_type": "execute_result"
    }
   ],
   "source": [
    "#m[0][:].mean(axis=1)\n",
    "media = []\n",
    "\n",
    "for i in range (0,len(m)-1):\n",
    "    media.append(m[i][:].mean())\n",
    "\n",
    "media"
   ]
  },
  {
   "cell_type": "markdown",
   "metadata": {},
   "source": [
    "# Como encontrar o valor mais frequente em uma matriz?"
   ]
  },
  {
   "cell_type": "code",
   "execution_count": 134,
   "metadata": {},
   "outputs": [],
   "source": [
    "# achar o valor mais frequente para um array:\n",
    "x = np.random.randint(0, 10, 40)\n",
    "print(\"Original array:\")\n",
    "print(x)\n",
    "print(\"Most frequent value in the above array:\")\n",
    "print(np.bincount(x).argmax())\n",
    "# no caso de matriz, aplicar o método anterior linha a linha, \n",
    "# crear um vetor armazenanando o valor mais frequente de cada linha\n",
    "# por último, calcular o valor mais frequente de esse vetor"
   ]
  },
  {
   "cell_type": "markdown",
   "metadata": {},
   "source": [
    "# Crie uma matriz a partir de um arquivo"
   ]
  },
  {
   "cell_type": "code",
   "execution_count": 141,
   "metadata": {},
   "outputs": [
    {
     "data": {
      "text/plain": [
       "array([[ 1,  6, 20,  9],\n",
       "       [ 2,  7, 30,  2],\n",
       "       [ 3,  8, 40,  7],\n",
       "       [ 4,  9, 50,  3],\n",
       "       [ 5, 10, 60,  6]])"
      ]
     },
     "execution_count": 141,
     "metadata": {},
     "output_type": "execute_result"
    }
   ],
   "source": [
    "import pandas as pd\n",
    "\n",
    "df = pd.read_csv('arquivo.csv', sep=';',header=None)\n",
    "\n",
    "df.values "
   ]
  },
  {
   "cell_type": "markdown",
   "metadata": {},
   "source": [
    "# crie uma matriz com valores aletaórios e salve para um arquivo"
   ]
  },
  {
   "cell_type": "code",
   "execution_count": 142,
   "metadata": {},
   "outputs": [
    {
     "data": {
      "text/plain": [
       "array([[40, 55, 94, 50, 62],\n",
       "       [ 1, 24, 62, 51, 85],\n",
       "       [96, 44, 93, 59, 23],\n",
       "       [61, 77, 29, 93, 15],\n",
       "       [90,  0, 80,  8, 80]])"
      ]
     },
     "execution_count": 142,
     "metadata": {},
     "output_type": "execute_result"
    }
   ],
   "source": [
    "mat = np.random.randint(0, 100, (5,5))\n",
    "mat"
   ]
  },
  {
   "cell_type": "code",
   "execution_count": 143,
   "metadata": {},
   "outputs": [],
   "source": [
    "!touch salva_matriz.txt\n",
    "np.savetxt('salva_matriz.txt',mat) "
   ]
  },
  {
   "cell_type": "code",
   "execution_count": 144,
   "metadata": {},
   "outputs": [
    {
     "name": "stdout",
     "output_type": "stream",
     "text": [
      "4.000000000000000000e+01 5.500000000000000000e+01 9.400000000000000000e+01 5.000000000000000000e+01 6.200000000000000000e+01\r\n",
      "1.000000000000000000e+00 2.400000000000000000e+01 6.200000000000000000e+01 5.100000000000000000e+01 8.500000000000000000e+01\r\n",
      "9.600000000000000000e+01 4.400000000000000000e+01 9.300000000000000000e+01 5.900000000000000000e+01 2.300000000000000000e+01\r\n",
      "6.100000000000000000e+01 7.700000000000000000e+01 2.900000000000000000e+01 9.300000000000000000e+01 1.500000000000000000e+01\r\n",
      "9.000000000000000000e+01 0.000000000000000000e+00 8.000000000000000000e+01 8.000000000000000000e+00 8.000000000000000000e+01\r\n"
     ]
    }
   ],
   "source": [
    "!cat salva_matriz.txt"
   ]
  }
 ],
 "metadata": {
  "kernelspec": {
   "display_name": "Python 3",
   "language": "python",
   "name": "python3"
  },
  "language_info": {
   "codemirror_mode": {
    "name": "ipython",
    "version": 3
   },
   "file_extension": ".py",
   "mimetype": "text/x-python",
   "name": "python",
   "nbconvert_exporter": "python",
   "pygments_lexer": "ipython3",
   "version": "3.8.3"
  }
 },
 "nbformat": 4,
 "nbformat_minor": 4
}
