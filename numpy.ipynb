{
 "cells": [
  {
   "cell_type": "code",
   "execution_count": 143,
   "metadata": {},
   "outputs": [],
   "source": [
    "import numpy as np\n",
    "import pandas as pd"
   ]
  },
  {
   "cell_type": "markdown",
   "metadata": {},
   "source": [
    "# criando array com valores iguais"
   ]
  },
  {
   "cell_type": "code",
   "execution_count": 144,
   "metadata": {},
   "outputs": [
    {
     "name": "stdout",
     "output_type": "stream",
     "text": [
      "np.ones:  [[1. 1. 1. 1.]\n",
      " [1. 1. 1. 1.]\n",
      " [1. 1. 1. 1.]]\n"
     ]
    }
   ],
   "source": [
    "n = np.ones((3,4))\n",
    "\n",
    "print(\"np.ones: \",n)"
   ]
  },
  {
   "cell_type": "markdown",
   "metadata": {},
   "source": [
    "# criando array com zeros"
   ]
  },
  {
   "cell_type": "code",
   "execution_count": 146,
   "metadata": {},
   "outputs": [
    {
     "name": "stdout",
     "output_type": "stream",
     "text": [
      "np.zeros:  [[[0 0 0 0]\n",
      "  [0 0 0 0]\n",
      "  [0 0 0 0]]\n",
      "\n",
      " [[0 0 0 0]\n",
      "  [0 0 0 0]\n",
      "  [0 0 0 0]]]\n"
     ]
    }
   ],
   "source": [
    "n=np.zeros((2,3,4),dtype=np.int16) \n",
    "print(\"np.zeros: \",n)"
   ]
  },
  {
   "cell_type": "markdown",
   "metadata": {},
   "source": [
    "# criando array com valores aleatorios "
   ]
  },
  {
   "cell_type": "code",
   "execution_count": 147,
   "metadata": {},
   "outputs": [
    {
     "name": "stdout",
     "output_type": "stream",
     "text": [
      "random.random:  [[0.48751427 0.58229743]\n",
      " [0.37785649 0.35712024]]\n"
     ]
    }
   ],
   "source": [
    "n=np.random.random((2,2)) \n",
    "print(\"random.random: \",n)"
   ]
  },
  {
   "cell_type": "markdown",
   "metadata": {},
   "source": [
    "# criando array vazias"
   ]
  },
  {
   "cell_type": "code",
   "execution_count": 148,
   "metadata": {},
   "outputs": [
    {
     "name": "stdout",
     "output_type": "stream",
     "text": [
      "empty:  [[0. 0.]\n",
      " [0. 0.]\n",
      " [0. 0.]]\n"
     ]
    }
   ],
   "source": [
    "\n",
    "n=np.empty((3,2)) \n",
    "print(\"empty: \",n)"
   ]
  },
  {
   "cell_type": "markdown",
   "metadata": {},
   "source": [
    "# criando array com valores sequenciais"
   ]
  },
  {
   "cell_type": "code",
   "execution_count": 149,
   "metadata": {},
   "outputs": [
    {
     "name": "stdout",
     "output_type": "stream",
     "text": [
      "arange:  [10 15 20]\n"
     ]
    }
   ],
   "source": [
    "\n",
    "n=np.arange(10,25,5) \n",
    "print(\"arange: \",n)"
   ]
  },
  {
   "cell_type": "code",
   "execution_count": 150,
   "metadata": {},
   "outputs": [
    {
     "ename": "SyntaxError",
     "evalue": "invalid syntax (<ipython-input-150-dec0037ad2e1>, line 1)",
     "output_type": "error",
     "traceback": [
      "\u001b[0;36m  File \u001b[0;32m\"<ipython-input-150-dec0037ad2e1>\"\u001b[0;36m, line \u001b[0;32m1\u001b[0m\n\u001b[0;31m    * matriz com valores igualmente espacados em um intervalo\u001b[0m\n\u001b[0m               ^\u001b[0m\n\u001b[0;31mSyntaxError\u001b[0m\u001b[0;31m:\u001b[0m invalid syntax\n"
     ]
    }
   ],
   "source": [
    "* matriz com valores igualmente espacados em um intervalo\n",
    "* criando matriz identidade, "
   ]
  },
  {
   "cell_type": "code",
   "execution_count": 151,
   "metadata": {},
   "outputs": [
    {
     "name": "stdout",
     "output_type": "stream",
     "text": [
      "linspace:  [0.         0.22222222 0.44444444 0.66666667 0.88888889 1.11111111\n",
      " 1.33333333 1.55555556 1.77777778 2.        ]\n",
      "np.eye:  [[1. 0. 0. 0. 0. 0. 0. 0. 0. 0. 0. 0. 0. 0. 0. 0. 0. 0. 0. 0. 0. 0.]\n",
      " [0. 1. 0. 0. 0. 0. 0. 0. 0. 0. 0. 0. 0. 0. 0. 0. 0. 0. 0. 0. 0. 0.]\n",
      " [0. 0. 1. 0. 0. 0. 0. 0. 0. 0. 0. 0. 0. 0. 0. 0. 0. 0. 0. 0. 0. 0.]\n",
      " [0. 0. 0. 1. 0. 0. 0. 0. 0. 0. 0. 0. 0. 0. 0. 0. 0. 0. 0. 0. 0. 0.]\n",
      " [0. 0. 0. 0. 1. 0. 0. 0. 0. 0. 0. 0. 0. 0. 0. 0. 0. 0. 0. 0. 0. 0.]\n",
      " [0. 0. 0. 0. 0. 1. 0. 0. 0. 0. 0. 0. 0. 0. 0. 0. 0. 0. 0. 0. 0. 0.]\n",
      " [0. 0. 0. 0. 0. 0. 1. 0. 0. 0. 0. 0. 0. 0. 0. 0. 0. 0. 0. 0. 0. 0.]\n",
      " [0. 0. 0. 0. 0. 0. 0. 1. 0. 0. 0. 0. 0. 0. 0. 0. 0. 0. 0. 0. 0. 0.]\n",
      " [0. 0. 0. 0. 0. 0. 0. 0. 1. 0. 0. 0. 0. 0. 0. 0. 0. 0. 0. 0. 0. 0.]\n",
      " [0. 0. 0. 0. 0. 0. 0. 0. 0. 1. 0. 0. 0. 0. 0. 0. 0. 0. 0. 0. 0. 0.]\n",
      " [0. 0. 0. 0. 0. 0. 0. 0. 0. 0. 1. 0. 0. 0. 0. 0. 0. 0. 0. 0. 0. 0.]\n",
      " [0. 0. 0. 0. 0. 0. 0. 0. 0. 0. 0. 1. 0. 0. 0. 0. 0. 0. 0. 0. 0. 0.]\n",
      " [0. 0. 0. 0. 0. 0. 0. 0. 0. 0. 0. 0. 1. 0. 0. 0. 0. 0. 0. 0. 0. 0.]\n",
      " [0. 0. 0. 0. 0. 0. 0. 0. 0. 0. 0. 0. 0. 1. 0. 0. 0. 0. 0. 0. 0. 0.]\n",
      " [0. 0. 0. 0. 0. 0. 0. 0. 0. 0. 0. 0. 0. 0. 1. 0. 0. 0. 0. 0. 0. 0.]\n",
      " [0. 0. 0. 0. 0. 0. 0. 0. 0. 0. 0. 0. 0. 0. 0. 1. 0. 0. 0. 0. 0. 0.]\n",
      " [0. 0. 0. 0. 0. 0. 0. 0. 0. 0. 0. 0. 0. 0. 0. 0. 1. 0. 0. 0. 0. 0.]\n",
      " [0. 0. 0. 0. 0. 0. 0. 0. 0. 0. 0. 0. 0. 0. 0. 0. 0. 1. 0. 0. 0. 0.]\n",
      " [0. 0. 0. 0. 0. 0. 0. 0. 0. 0. 0. 0. 0. 0. 0. 0. 0. 0. 1. 0. 0. 0.]\n",
      " [0. 0. 0. 0. 0. 0. 0. 0. 0. 0. 0. 0. 0. 0. 0. 0. 0. 0. 0. 1. 0. 0.]\n",
      " [0. 0. 0. 0. 0. 0. 0. 0. 0. 0. 0. 0. 0. 0. 0. 0. 0. 0. 0. 0. 1. 0.]\n",
      " [0. 0. 0. 0. 0. 0. 0. 0. 0. 0. 0. 0. 0. 0. 0. 0. 0. 0. 0. 0. 0. 1.]]\n",
      "np.identity:  [[1. 0. 0. 0. 0.]\n",
      " [0. 1. 0. 0. 0.]\n",
      " [0. 0. 1. 0. 0.]\n",
      " [0. 0. 0. 1. 0.]\n",
      " [0. 0. 0. 0. 1.]]\n"
     ]
    }
   ],
   "source": [
    "n=np.linspace(0,2,10) \n",
    "print(\"linspace: \",n)\n",
    "\n",
    "n = np.eye(22) \n",
    "print(\"np.eye: \",n)\n",
    "\n",
    "n = np.identity(5) \n",
    "print(\"np.identity: \",n)"
   ]
  },
  {
   "cell_type": "markdown",
   "metadata": {},
   "source": [
    "# mudando o tipo da matriz\n",
    "* bool_\n",
    "* int_\n",
    "* intc\n",
    "* intp\n",
    "* int8\n",
    "* int16\n",
    "* int32\n",
    "* int64\n",
    "* uint8\n",
    "* uint16\n",
    "* uint32\n",
    "* uint64\n",
    "* float_\n",
    "* float16\n",
    "* float32\n",
    "* float64\n",
    "* complex_\n",
    "* complex64\n",
    "* complex128"
   ]
  },
  {
   "cell_type": "code",
   "execution_count": 152,
   "metadata": {},
   "outputs": [
    {
     "data": {
      "text/plain": [
       "array([1, 2, 3, 4], dtype=uint64)"
      ]
     },
     "execution_count": 152,
     "metadata": {},
     "output_type": "execute_result"
    }
   ],
   "source": [
    "z=np.array([1, 2, 3, 4], dtype='uint64')\n",
    "z"
   ]
  },
  {
   "cell_type": "code",
   "execution_count": 153,
   "metadata": {},
   "outputs": [
    {
     "data": {
      "text/plain": [
       "array([ 9223372036854775805,  9223372036854775806,  9223372036854775807,\n",
       "        9999999999999999999, 17999999999999999999, 18000000000000000000],\n",
       "      dtype=uint64)"
      ]
     },
     "execution_count": 153,
     "metadata": {},
     "output_type": "execute_result"
    }
   ],
   "source": [
    "z=np.array([9223372036854775805, 9223372036854775806, 9223372036854775807, 9999999999999999999,17999999999999999999,18000000000000000000], dtype='uint64')\n",
    "z                                                                                                        \n"
   ]
  },
  {
   "cell_type": "code",
   "execution_count": 154,
   "metadata": {},
   "outputs": [
    {
     "data": {
      "text/plain": [
       "array([4294967293, 4294967294, 4294967295, 2313682943, 3305635839,\n",
       "       3305635840], dtype=uint32)"
      ]
     },
     "execution_count": 154,
     "metadata": {},
     "output_type": "execute_result"
    }
   ],
   "source": [
    "z=np.array([9223372036854775805, 9223372036854775806, 9223372036854775807, 9999999999999999999,17999999999999999999,18000000000000000000], dtype='uint32')\n",
    "z"
   ]
  },
  {
   "cell_type": "code",
   "execution_count": null,
   "metadata": {},
   "outputs": [],
   "source": []
  },
  {
   "cell_type": "markdown",
   "metadata": {},
   "source": [
    "# informação sobre matrizes\n",
    "\n",
    "* dimensoes\n",
    "* formato\n",
    "* quantidade de elementos\n",
    "* layout de memoria\n",
    "* tamanho de um elemento em bytes\n",
    "* tamanho total do array em bytes"
   ]
  },
  {
   "cell_type": "code",
   "execution_count": 155,
   "metadata": {},
   "outputs": [
    {
     "name": "stdout",
     "output_type": "stream",
     "text": [
      "2\n",
      "(12, 12)\n",
      "144\n",
      "  C_CONTIGUOUS : True\n",
      "  F_CONTIGUOUS : False\n",
      "  OWNDATA : True\n",
      "  WRITEABLE : True\n",
      "  ALIGNED : True\n",
      "  WRITEBACKIFCOPY : False\n",
      "  UPDATEIFCOPY : False\n",
      "\n",
      "8\n",
      "1152\n"
     ]
    }
   ],
   "source": [
    "my_array=np.full((12,12),70)\n",
    "\n",
    "print(my_array.ndim)\n",
    "print(my_array.shape)\n",
    "print(my_array.size)\n",
    "print(my_array.flags)\n",
    "print(my_array.itemsize)\n",
    "print(my_array.nbytes) "
   ]
  },
  {
   "cell_type": "markdown",
   "metadata": {},
   "source": [
    "# mudando o formato - reshape"
   ]
  },
  {
   "cell_type": "code",
   "execution_count": 156,
   "metadata": {},
   "outputs": [
    {
     "name": "stdout",
     "output_type": "stream",
     "text": [
      "[[70 70 70 70 70 70 70 70 70 70 70 70]\n",
      " [70 70 70 70 70 70 70 70 70 70 70 70]\n",
      " [70 70 70 70 70 70 70 70 70 70 70 70]\n",
      " [70 70 70 70 70 70 70 70 70 70 70 70]\n",
      " [70 70 70 70 70 70 70 70 70 70 70 70]\n",
      " [70 70 70 70 70 70 70 70 70 70 70 70]\n",
      " [70 70 70 70 70 70 70 70 70 70 70 70]\n",
      " [70 70 70 70 70 70 70 70 70 70 70 70]\n",
      " [70 70 70 70 70 70 70 70 70 70 70 70]\n",
      " [70 70 70 70 70 70 70 70 70 70 70 70]\n",
      " [70 70 70 70 70 70 70 70 70 70 70 70]\n",
      " [70 70 70 70 70 70 70 70 70 70 70 70]]\n"
     ]
    }
   ],
   "source": [
    "print(my_array) "
   ]
  },
  {
   "cell_type": "code",
   "execution_count": 157,
   "metadata": {},
   "outputs": [
    {
     "name": "stdout",
     "output_type": "stream",
     "text": [
      "[[70 70 70 70 70 70 70 70 70 70 70 70 70 70 70 70 70 70 70 70 70 70 70 70\n",
      "  70 70 70 70 70 70 70 70 70 70 70 70 70 70 70 70 70 70 70 70 70 70 70 70\n",
      "  70 70 70 70 70 70 70 70 70 70 70 70 70 70 70 70 70 70 70 70 70 70 70 70\n",
      "  70 70 70 70 70 70 70 70 70 70 70 70 70 70 70 70 70 70 70 70 70 70 70 70\n",
      "  70 70 70 70 70 70 70 70 70 70 70 70 70 70 70 70 70 70 70 70 70 70 70 70\n",
      "  70 70 70 70 70 70 70 70 70 70 70 70 70 70 70 70 70 70 70 70 70 70 70 70]]\n"
     ]
    }
   ],
   "source": [
    "zz=my_array.reshape(1,144)\n",
    "print(zz) "
   ]
  },
  {
   "cell_type": "markdown",
   "metadata": {},
   "source": [
    "# slicing de array\n",
    "* cinco primeiros\n",
    "* após quinto elemento\n",
    "* elementos no meio da matriz\n",
    "* pulando um elemento\n",
    "* pulando um elemento comecando do elemento 1\n",
    "* lista reversa\n",
    "* lista reversa , pulando um elemento comecando do quinto elemento"
   ]
  },
  {
   "cell_type": "code",
   "execution_count": 158,
   "metadata": {},
   "outputs": [
    {
     "name": "stdout",
     "output_type": "stream",
     "text": [
      "[0 1 2 3 4 5 6 7 8 9]\n",
      "[0 1 2 3 4]\n",
      "[5 6 7 8 9]\n",
      "[4 5 6]\n",
      "[0 2 4 6 8]\n",
      "[1 3 5 7 9]\n",
      "[9 8 7 6 5 4 3 2 1 0]\n",
      "[5 3 1]\n"
     ]
    }
   ],
   "source": [
    "x = np.arange(10)\n",
    "print(x)\n",
    "print(x[:5]) \n",
    "print(x[5:]) \n",
    "print(x[4:7]) \n",
    "print(x[::2])\n",
    "print(x[1::2])\n",
    "print(x[::-1])\n",
    "print(x[5::-2])    "
   ]
  },
  {
   "cell_type": "markdown",
   "metadata": {},
   "source": [
    "# Matriz multidimensional"
   ]
  },
  {
   "cell_type": "code",
   "execution_count": 159,
   "metadata": {},
   "outputs": [],
   "source": [
    "x2 = np.random.randint(10, size=(3, 4)) \n",
    "x3 = np.random.randint(10, size=(3, 4, 5)) "
   ]
  },
  {
   "cell_type": "code",
   "execution_count": 160,
   "metadata": {},
   "outputs": [
    {
     "data": {
      "text/plain": [
       "array([[1, 7, 5, 9],\n",
       "       [2, 6, 6, 9],\n",
       "       [0, 2, 8, 2]])"
      ]
     },
     "execution_count": 160,
     "metadata": {},
     "output_type": "execute_result"
    }
   ],
   "source": [
    "x2"
   ]
  },
  {
   "cell_type": "markdown",
   "metadata": {},
   "source": [
    "# slice de matriz multidimensional\n",
    "* duas linhas e 3 colunas\n",
    "* todas as linhas pulando uma coluna\n",
    "* ordem reversa\n",
    "* primeira coluna\n",
    "* primeira linha"
   ]
  },
  {
   "cell_type": "code",
   "execution_count": 161,
   "metadata": {},
   "outputs": [
    {
     "name": "stdout",
     "output_type": "stream",
     "text": [
      "[[1 7 5]\n",
      " [2 6 6]]\n",
      "[[1 5]\n",
      " [2 6]\n",
      " [0 8]]\n",
      "[[2 8 2 0]\n",
      " [9 6 6 2]\n",
      " [9 5 7 1]]\n",
      "[1 2 0]\n",
      "[1 7 5 9]\n"
     ]
    }
   ],
   "source": [
    "print(x2[:2, :3])\n",
    "print(x2[:3, ::2])\n",
    "print(x2[::-1, ::-1])\n",
    "print(x2[:, 0])\n",
    "print(x2[0, :])"
   ]
  },
  {
   "cell_type": "markdown",
   "metadata": {},
   "source": [
    "# numpy represent variaveis por referencia\n",
    "* fazendo slice de uma matriz para uma nova matriz, mantem a referencia para o valor original"
   ]
  },
  {
   "cell_type": "code",
   "execution_count": 162,
   "metadata": {},
   "outputs": [
    {
     "name": "stdout",
     "output_type": "stream",
     "text": [
      "[[1 7]\n",
      " [2 6]]\n",
      "[[99  7]\n",
      " [ 2  6]]\n",
      "[[99  7  5  9]\n",
      " [ 2  6  6  9]\n",
      " [ 0  2  8  2]]\n"
     ]
    }
   ],
   "source": [
    "x2_sub = x2[:2, :2] \n",
    "print(x2_sub)\n",
    "x2_sub[0, 0] = 99 \n",
    "print(x2_sub)\n",
    "print(x2)"
   ]
  },
  {
   "cell_type": "markdown",
   "metadata": {},
   "source": [
    "# criando copias"
   ]
  },
  {
   "cell_type": "code",
   "execution_count": 163,
   "metadata": {},
   "outputs": [
    {
     "name": "stdout",
     "output_type": "stream",
     "text": [
      "[[99  7]\n",
      " [ 2  6]]\n",
      "[[66  7]\n",
      " [ 2  6]]\n",
      "[[99  7  5  9]\n",
      " [ 2  6  6  9]\n",
      " [ 0  2  8  2]]\n"
     ]
    }
   ],
   "source": [
    "x2_sub_copy = x2[:2, :2].copy() \n",
    "print(x2_sub_copy)\n",
    "x2_sub_copy[0, 0] = 66 \n",
    "print(x2_sub_copy)\n",
    "print(x2)"
   ]
  },
  {
   "cell_type": "code",
   "execution_count": null,
   "metadata": {},
   "outputs": [],
   "source": []
  },
  {
   "cell_type": "markdown",
   "metadata": {},
   "source": [
    "# salvando e carregando matrizes"
   ]
  },
  {
   "cell_type": "code",
   "execution_count": 164,
   "metadata": {},
   "outputs": [],
   "source": [
    "!rm -rf /home/silvio/testg.npy\n",
    "!rm -rf /home/silvio/testg.txt\n",
    "!rm -rf /home/silvio/testH-c.npz\n",
    "!rm -rf /home/silvio/testHHH.npz"
   ]
  },
  {
   "cell_type": "code",
   "execution_count": 165,
   "metadata": {},
   "outputs": [],
   "source": [
    "nHIGH=np.eye(500) \n",
    "np.save('/home/silvio/testg',nHIGH) \n",
    "np.savetxt('/home/silvio/testg.txt',nHIGH) \n",
    "np.savez('/home/silvio/testHHH',nHIGH=nHIGH) \n",
    "np.savez_compressed('/home/silvio/testH-c',nHIGH=nHIGH)"
   ]
  },
  {
   "cell_type": "code",
   "execution_count": null,
   "metadata": {},
   "outputs": [],
   "source": []
  },
  {
   "cell_type": "code",
   "execution_count": 166,
   "metadata": {},
   "outputs": [
    {
     "name": "stdout",
     "output_type": "stream",
     "text": [
      "-rw-r--r-- 1 silvio ncc 2.0M Sep 10 19:04 /home/silvio/testg.npy\n",
      "-rw-r--r-- 1 silvio ncc 6.0M Sep 10 19:04 /home/silvio/testg.txt\n",
      "-rw-r--r-- 1 silvio ncc 2.0M Sep 10 17:31 /home/silvio/testH.npz\n",
      "-rw-r--r-- 1 silvio ncc 3.3K Sep 10 19:04 /home/silvio/testH-c.npz\n"
     ]
    }
   ],
   "source": [
    "!ls -lh /home/silvio/testg.npy\n",
    "!ls -lh /home/silvio/testg.txt\n",
    "!ls -lh /home/silvio/testH.npz \n",
    "!ls -lh /home/silvio/testH-c.npz"
   ]
  },
  {
   "cell_type": "code",
   "execution_count": null,
   "metadata": {},
   "outputs": [],
   "source": []
  },
  {
   "cell_type": "code",
   "execution_count": 167,
   "metadata": {},
   "outputs": [
    {
     "name": "stdout",
     "output_type": "stream",
     "text": [
      "my_array1:  [[1. 0. 0. ... 0. 0. 0.]\n",
      " [0. 1. 0. ... 0. 0. 0.]\n",
      " [0. 0. 1. ... 0. 0. 0.]\n",
      " ...\n",
      " [0. 0. 0. ... 1. 0. 0.]\n",
      " [0. 0. 0. ... 0. 1. 0.]\n",
      " [0. 0. 0. ... 0. 0. 1.]]\n",
      "my_array2:  [[1. 0. 0. ... 0. 0. 0.]\n",
      " [0. 1. 0. ... 0. 0. 0.]\n",
      " [0. 0. 1. ... 0. 0. 0.]\n",
      " ...\n",
      " [0. 0. 0. ... 1. 0. 0.]\n",
      " [0. 0. 0. ... 0. 1. 0.]\n",
      " [0. 0. 0. ... 0. 0. 1.]]\n",
      "my_array3:  <numpy.lib.npyio.NpzFile object at 0x7fb23707eba8>\n",
      "my_array4:  <numpy.lib.npyio.NpzFile object at 0x7fb22f97b3c8>\n"
     ]
    }
   ],
   "source": [
    "my_array1 = np.loadtxt('/home/silvio/testg.txt') \n",
    "print(\"my_array1: \",my_array1)\n",
    "\n",
    "my_array2 = np.load('/home/silvio/testg.npy') \n",
    "print(\"my_array2: \",my_array2)\n",
    "\n",
    "my_array3 = np.load('/home/silvio/testH-c.npz') \n",
    "print(\"my_array3: \",my_array3) \n",
    "\n",
    "my_array4 = np.load('/home/silvio/testHHH.npz') \n",
    "print(\"my_array4: \",my_array4) "
   ]
  },
  {
   "cell_type": "code",
   "execution_count": 168,
   "metadata": {},
   "outputs": [
    {
     "data": {
      "text/plain": [
       "array([[1., 0., 0., ..., 0., 0., 0.],\n",
       "       [0., 1., 0., ..., 0., 0., 0.],\n",
       "       [0., 0., 1., ..., 0., 0., 0.],\n",
       "       ...,\n",
       "       [0., 0., 0., ..., 1., 0., 0.],\n",
       "       [0., 0., 0., ..., 0., 1., 0.],\n",
       "       [0., 0., 0., ..., 0., 0., 1.]])"
      ]
     },
     "execution_count": 168,
     "metadata": {},
     "output_type": "execute_result"
    }
   ],
   "source": [
    "my_array3['nHIGH']"
   ]
  },
  {
   "cell_type": "code",
   "execution_count": 169,
   "metadata": {},
   "outputs": [
    {
     "data": {
      "text/plain": [
       "array([[1., 0., 0., ..., 0., 0., 0.],\n",
       "       [0., 1., 0., ..., 0., 0., 0.],\n",
       "       [0., 0., 1., ..., 0., 0., 0.],\n",
       "       ...,\n",
       "       [0., 0., 0., ..., 1., 0., 0.],\n",
       "       [0., 0., 0., ..., 0., 1., 0.],\n",
       "       [0., 0., 0., ..., 0., 0., 1.]])"
      ]
     },
     "execution_count": 169,
     "metadata": {},
     "output_type": "execute_result"
    }
   ],
   "source": [
    "my_array4['nHIGH']"
   ]
  },
  {
   "cell_type": "code",
   "execution_count": null,
   "metadata": {},
   "outputs": [],
   "source": []
  },
  {
   "cell_type": "markdown",
   "metadata": {},
   "source": [
    "# operações com matrizes\n",
    "* somando matrizes\n",
    "* somatória dos elementos da matriz"
   ]
  },
  {
   "cell_type": "code",
   "execution_count": 170,
   "metadata": {},
   "outputs": [
    {
     "name": "stdout",
     "output_type": "stream",
     "text": [
      "res:  [[[1.79854688 1.51162631 1.1831531  1.02757537]\n",
      "  [0.86201773 0.80851738 1.14491499 0.77778477]\n",
      "  [1.33074929 1.41229259 1.59672392 0.88855312]]\n",
      "\n",
      " [[1.36233559 1.16113371 1.40079991 0.89923389]\n",
      "  [0.42580644 0.45802478 1.3625618  0.64944329]\n",
      "  [0.89453799 1.06179999 1.81437073 0.76021164]]\n",
      "\n",
      " [[1.18583736 1.50340387 1.43841335 1.80004514]\n",
      "  [0.24930821 0.80029494 1.40017524 1.55025454]\n",
      "  [0.71803976 1.40407015 1.85198417 1.66102289]]\n",
      "\n",
      " [[1.42024164 1.09363031 1.37626616 1.45959485]\n",
      "  [0.48371249 0.39052137 1.33802805 1.20980425]\n",
      "  [0.95244404 0.99429659 1.78983698 1.32057259]]\n",
      "\n",
      " [[1.84696666 1.71971035 0.6866819  1.10191509]\n",
      "  [0.91043751 1.01660142 0.64844379 0.85212449]\n",
      "  [1.37916906 1.62037663 1.10025272 0.96289284]]]\n",
      "res2:  69.83008663557062\n"
     ]
    }
   ],
   "source": [
    "x=np.random.random((3,4)) \n",
    "y=np.random.random((5,1,4))\n",
    "\n",
    "res=np.add(x,y) \n",
    "print('res: ',res)\n",
    "\n",
    "res2=res.sum() \n",
    "print('res2: ',res2)"
   ]
  },
  {
   "cell_type": "markdown",
   "metadata": {},
   "source": [
    "selecionando elementos"
   ]
  },
  {
   "cell_type": "code",
   "execution_count": 171,
   "metadata": {},
   "outputs": [
    {
     "name": "stdout",
     "output_type": "stream",
     "text": [
      "0.3549168090796764\n",
      "0.3549168090796764\n"
     ]
    }
   ],
   "source": [
    "my_2d_array=np.random.random((4,4))\n",
    "\n",
    "print(my_2d_array[1][2])\n",
    "\n",
    "print(my_2d_array[1,2])"
   ]
  },
  {
   "cell_type": "markdown",
   "metadata": {},
   "source": [
    "concatenando matrizes"
   ]
  },
  {
   "cell_type": "code",
   "execution_count": 172,
   "metadata": {},
   "outputs": [
    {
     "data": {
      "text/plain": [
       "array([[ 1,  2,  3],\n",
       "       [ 4,  5,  6],\n",
       "       [10, 20, 30],\n",
       "       [40, 50, 60]])"
      ]
     },
     "execution_count": 172,
     "metadata": {},
     "output_type": "execute_result"
    }
   ],
   "source": [
    "grid = np.array([[1, 2, 3],[4, 5, 6]])\n",
    "\n",
    "grid2 = np.array([[10, 20, 30],[40, 50, 60]])\n",
    "\n",
    "np.concatenate([grid, grid2])\n",
    "\n",
    "#x = np.array([1, 2, 3])\n",
    "\n",
    "#grid = np.array([[9, 8, 7],[6, 5, 4]])"
   ]
  },
  {
   "cell_type": "markdown",
   "metadata": {},
   "source": [
    "stack"
   ]
  },
  {
   "cell_type": "code",
   "execution_count": 173,
   "metadata": {},
   "outputs": [
    {
     "data": {
      "text/plain": [
       "array([[1, 2, 3],\n",
       "       [1, 2, 3],\n",
       "       [4, 5, 6]])"
      ]
     },
     "execution_count": 173,
     "metadata": {},
     "output_type": "execute_result"
    }
   ],
   "source": [
    "x = np.array([1, 2, 3])\n",
    "np.vstack([x, grid])"
   ]
  },
  {
   "cell_type": "code",
   "execution_count": 174,
   "metadata": {},
   "outputs": [
    {
     "data": {
      "text/plain": [
       "array([[ 1,  2,  3, 99],\n",
       "       [ 4,  5,  6, 99]])"
      ]
     },
     "execution_count": 174,
     "metadata": {},
     "output_type": "execute_result"
    }
   ],
   "source": [
    "y = np.array([[99],[99]])\n",
    "np.hstack([grid, y])"
   ]
  },
  {
   "cell_type": "markdown",
   "metadata": {},
   "source": [
    "# parametro axis"
   ]
  },
  {
   "cell_type": "code",
   "execution_count": 175,
   "metadata": {},
   "outputs": [
    {
     "name": "stdout",
     "output_type": "stream",
     "text": [
      "[[0.75393807 0.77715859 0.2048744  0.01880888]\n",
      " [0.80558402 0.1312244  0.21619681 0.65735702]\n",
      " [0.77404847 0.04087082 0.47880057 0.05858739]]\n",
      "4.9174494515498495\n",
      "[2.33357056 0.94925382 0.89987178 0.73475329]\n",
      "[1.75477994 1.81036225 1.35230726]\n"
     ]
    }
   ],
   "source": [
    "x=np.random.random((3,4)) \n",
    "print(x)\n",
    "print(x.sum()) \n",
    "print(x.sum(axis=0)) \n",
    "print(x.sum(axis=1)) "
   ]
  },
  {
   "cell_type": "markdown",
   "metadata": {},
   "source": [
    "# funcoes diversa\n",
    "* exponencial\n",
    "* minimo\n",
    "* maximo"
   ]
  },
  {
   "cell_type": "code",
   "execution_count": 176,
   "metadata": {},
   "outputs": [
    {
     "name": "stdout",
     "output_type": "stream",
     "text": [
      "x = [1, 2, 3]\n",
      "e^x = [ 2.71828183  7.3890561  20.08553692]\n",
      "2^x = [2. 4. 8.]\n",
      "3^x = [ 3  9 27]\n",
      "1\n",
      "99\n"
     ]
    }
   ],
   "source": [
    "x = [1, 2, 3] \n",
    "print(\"x =\", x)\n",
    "print(\"e^x =\",np.exp(x)) \n",
    "print(\"2^x =\",np.exp2(x)) \n",
    "print(\"3^x =\",np.power(3,x))\n",
    "\n",
    "big_array = np.random.randint(1, 100, size=1000000)\n",
    "print(min(big_array))\n",
    "print(max(big_array))"
   ]
  },
  {
   "cell_type": "markdown",
   "metadata": {},
   "source": [
    "# comparando tempo de execução entre função python e funçao numpy"
   ]
  },
  {
   "cell_type": "code",
   "execution_count": 177,
   "metadata": {},
   "outputs": [
    {
     "name": "stdout",
     "output_type": "stream",
     "text": [
      "95 ms ± 2.54 ms per loop (mean ± std. dev. of 7 runs, 10 loops each)\n",
      "716 µs ± 22.5 µs per loop (mean ± std. dev. of 7 runs, 1000 loops each)\n"
     ]
    }
   ],
   "source": [
    "%timeit min(big_array)\n",
    "%timeit np.min(big_array)"
   ]
  },
  {
   "cell_type": "markdown",
   "metadata": {},
   "source": [
    "# Classificando matrizes numpy"
   ]
  },
  {
   "cell_type": "code",
   "execution_count": 178,
   "metadata": {},
   "outputs": [
    {
     "name": "stdout",
     "output_type": "stream",
     "text": [
      "[1 2 3 4 5]\n"
     ]
    }
   ],
   "source": [
    "x = np.array([2, 1, 4, 3, 5])\n",
    "i = np.sort(x)\n",
    "print(i)"
   ]
  },
  {
   "cell_type": "markdown",
   "metadata": {},
   "source": [
    "# atributo values transforma um series em numpy array"
   ]
  },
  {
   "cell_type": "code",
   "execution_count": 179,
   "metadata": {},
   "outputs": [
    {
     "name": "stdout",
     "output_type": "stream",
     "text": [
      "NumPy array:\n",
      "[10 20 30 40 50]\n",
      "<class 'numpy.ndarray'>\n",
      "Pandas series:\n",
      "0    10\n",
      "1    20\n",
      "2    30\n",
      "3    40\n",
      "4    50\n",
      "dtype: int64\n",
      "<class 'pandas.core.series.Series'>\n",
      "NumPy array:\n",
      "<class 'numpy.ndarray'>\n",
      "[10 20 30 40 50]\n"
     ]
    }
   ],
   "source": [
    "np_array = np.array([10, 20, 30, 40, 50])\n",
    "print(\"NumPy array:\")\n",
    "print(np_array)\n",
    "print(type(np_array))\n",
    "new_series = pd.Series(np_array)\n",
    "print(\"Pandas series:\")\n",
    "print(new_series)\n",
    "print(type(new_series))\n",
    "x=new_series.values\n",
    "print(\"NumPy array:\")\n",
    "\n",
    "print(type(x))\n",
    "print(x)"
   ]
  },
  {
   "cell_type": "code",
   "execution_count": null,
   "metadata": {},
   "outputs": [],
   "source": []
  },
  {
   "cell_type": "code",
   "execution_count": null,
   "metadata": {},
   "outputs": [],
   "source": []
  }
 ],
 "metadata": {
  "kernelspec": {
   "display_name": "Python 3",
   "language": "python",
   "name": "python3"
  },
  "language_info": {
   "codemirror_mode": {
    "name": "ipython",
    "version": 3
   },
   "file_extension": ".py",
   "mimetype": "text/x-python",
   "name": "python",
   "nbconvert_exporter": "python",
   "pygments_lexer": "ipython3",
   "version": "3.7.0"
  }
 },
 "nbformat": 4,
 "nbformat_minor": 4
}
